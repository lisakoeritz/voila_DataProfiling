{
 "cells": [
  {
   "cell_type": "markdown",
   "metadata": {},
   "source": [
    "# Prototypisches Data Profiling für die Datensätze der [Food Security Portal API](http://www.foodsecurityportal.org/api)"
   ]
  },
  {
   "cell_type": "markdown",
   "metadata": {},
   "source": [
    "Die Qualität verfügbarer Open Data Datensätze ist häufig sehr unterschiedlich und die Recherche nach hochwertigen Datensätzen mühsam. <br>\n",
    "Dieses prototypische Dashboard soll mit Hilfe eines Datenprofils Methoden darstellen, die Suche nach nützlichen und aussagekräftigen Open Data Datensätzen zu vereinfachen. <br>\n",
    "Dafür kann sich für die Datensätze aus dem Food Security Portal Data Dashboard von IFPRI jeweils ein Datensatz- und Spaltenprofil angezeigt werden lassen."
   ]
  },
  {
   "cell_type": "code",
   "execution_count": 27,
   "metadata": {},
   "outputs": [],
   "source": [
    "import pandas as pd\n",
    "import ipywidgets as widgets\n",
    "import webbrowser\n",
    "from IPython.display import display, Markdown\n",
    "from traitlets import traitlets"
   ]
  },
  {
   "cell_type": "code",
   "execution_count": 28,
   "metadata": {},
   "outputs": [],
   "source": [
    "#create Logger\n",
    "import logging\n",
    "import sys\n",
    "logger = logging.getLogger()\n",
    "logging.basicConfig(format='%(levelname)s : %(message)s',level=logging.INFO, stream=sys.stdout)"
   ]
  },
  {
   "cell_type": "code",
   "execution_count": 29,
   "metadata": {},
   "outputs": [],
   "source": [
    "#Style Optionen\n",
    "pd.set_option('display.max_colwidth', -1) #alle Daten in einer Spalte ausgeben\n",
    "pd.set_option('precision',4) #nur 3 Nachkommastellen anzeigen\n",
    "#turn extracted text into html linebreak format, source: \n",
    "pd.DataFrame.base_to_html = pd.DataFrame.to_html\n",
    "pd.DataFrame.to_html = (\n",
    "    lambda df, *args, **kwargs: \n",
    "        (df.base_to_html(*args, **kwargs)\n",
    "           .replace(r\"\\n\", \"<br/>\"))\n",
    ")"
   ]
  },
  {
   "cell_type": "code",
   "execution_count": 30,
   "metadata": {},
   "outputs": [],
   "source": [
    "#Import der Datenstruktur\n",
    "import dataset_profile\n",
    "import column_profile\n",
    "import import_data"
   ]
  },
  {
   "cell_type": "code",
   "execution_count": 31,
   "metadata": {},
   "outputs": [],
   "source": [
    "# Datensatz-Links\n",
    "dataset_links = import_data.collect_all_dataset_links_fsp()\n",
    "# Metadaten-Links\n",
    "metadata_links = import_data.collect_all_metadata_links_fsp()"
   ]
  },
  {
   "cell_type": "code",
   "execution_count": 32,
   "metadata": {},
   "outputs": [],
   "source": [
    "# Matching der Datenbanktitel mit Weltbank-Indikatoren\n",
    "indicator_match_fsp_wb = {'Agricultural Land (% of land area)':'AG.LND.AGRI.ZS', 'Agriculture, Value Added (% of GDP)':'NV.AGR.TOTL.ZS', \n",
    "                     'External Debt (% of GNI)':'DT.DOD.DECT.GN.ZS', 'Foreign Direct Investment (Current $US)':'BX.KLT.DINV.CD.WD',\n",
    "                     'GDP (current $US)':'NY.GDP.MKTP.CD', 'Global Inflation Dataset':'NY.GDP.DEFL.KD.ZG', \n",
    "                    'GNI per Capita (current $US)':'NY.GNP.PCAP.CD', 'National Poverty Rates (%)':'SI.POV.NAHC', \n",
    "                         'Population Density':'EN.POP.DNST', 'Under 5 Mortality Rate':'SH.DYN.MORT'}"
   ]
  },
  {
   "cell_type": "code",
   "execution_count": 33,
   "metadata": {},
   "outputs": [],
   "source": [
    "#Dictionary für globale Variablen\n",
    "profiling_data = {'dataframe_fsp': None, 'metadata_fsp' : None, 'dataframe_wb' : None, 'metadata_wb' : None}"
   ]
  },
  {
   "cell_type": "code",
   "execution_count": 70,
   "metadata": {},
   "outputs": [],
   "source": [
    "# Definition der strukturierten Ausgabe der Metadaten und des Datenprofils\n",
    "def print_ds_output(d,m):\n",
    "    print(\"\\nVerfügbare Metadaten:\\n\")\n",
    "    if all('N/A' in x for x in m.values()):\n",
    "        logging.info(\"keine Metadaten in API vorhanden\")\n",
    "    metadata = pd.DataFrame.from_dict(m, orient='index', columns=[\"Metadaten\"])\n",
    "    metadata.index.name = \"Kriterien\"\n",
    "    metadata.sort_index(inplace=True)\n",
    "    display(metadata)\n",
    "    print(\"\\nDatenprofil zu Datensatz:\\n\")\n",
    "    profile = dataset_profile.describe_ds_as_dataframe(d, m)\n",
    "    display(profile)"
   ]
  },
  {
   "cell_type": "code",
   "execution_count": 71,
   "metadata": {},
   "outputs": [],
   "source": [
    "ds_title = widgets.Dropdown(\n",
    "    options=dataset_links.keys(),\n",
    "    description='Datensätze:',\n",
    "    value = None,\n",
    "    disabled=False,\n",
    "    layout=widgets.Layout(width='33%')\n",
    ")"
   ]
  },
  {
   "cell_type": "code",
   "execution_count": 72,
   "metadata": {},
   "outputs": [],
   "source": [
    "#download datasets, wenn in Dropdown-Menü ausgewählt\n",
    "def dropdown_observe(v):\n",
    "    profiling_data['dataframe_fsp'] = import_data.get_dataset_fsp(dataset_links[v['new']])\n",
    "    profiling_data['metadata_fsp'] = import_data.get_metadata_attributes_fsp(metadata_links.get(v['new'], 'N/A'))"
   ]
  },
  {
   "cell_type": "code",
   "execution_count": 73,
   "metadata": {},
   "outputs": [],
   "source": [
    "ds_title.observe(dropdown_observe, names='value')"
   ]
  },
  {
   "cell_type": "markdown",
   "metadata": {},
   "source": [
    "### Datensatzprofil"
   ]
  },
  {
   "cell_type": "markdown",
   "metadata": {},
   "source": [
    "Über ein Dropdown Menü kann einer der zur Verfügung stehenden Datensatz zum Profiling ausgewählt werden. Dieser wird dann online abgerufen und zwischengespeichert.\n",
    "Über den Button kann das Datensatzprofil für den jeweiligen Datensatz abgerufen werden. Es werden die entsprechenden Metadaten und das Datensatzprofil dargestellt. <br>"
   ]
  },
  {
   "cell_type": "markdown",
   "metadata": {},
   "source": [
    "#### Vergleichsquelle: World Bank Datensatzprofil\n",
    "Die meisten Datensätze in der Datenbank des Food Security Portals sind Sekundärquellen, die ursprünglich z.B. von der FAO oder Weltbank herausgegeben werden. Zur Überprüfung der Aussagekraft des Datensatzes kann unter anderem ein Vergleich zwischen verschiedenen Versionen der Quelle dienen. \n",
    "Daher wird hier als prototypisches Beispiel bei Abruf eines Datenprofils, wenn vorhanden, der entsprechende Datensatz und die dazugehörigen Metadaten aus der Weltbank-API abgerufen und als eigenes vergleichendes Datenprofil dargestellt."
   ]
  },
  {
   "cell_type": "code",
   "execution_count": 74,
   "metadata": {
    "scrolled": true
   },
   "outputs": [],
   "source": [
    "#create button that can return value (source: )\n",
    "class ValueButton(widgets.Button):\n",
    "    def __init__(self, value=None, *args, **kwargs):\n",
    "        super(ValueButton, self).__init__(*args, **kwargs)\n",
    "        # Create a value attribute.\n",
    "        self.add_traits(value=traitlets.Any(value))"
   ]
  },
  {
   "cell_type": "code",
   "execution_count": 75,
   "metadata": {},
   "outputs": [],
   "source": [
    "#create buttons for dataset profiling\n",
    "button_dataprofile = ValueButton(description=\"Datenprofil\", layout=widgets.Layout(width='33%'))\n",
    "output_title = widgets.Output()\n",
    "output_fsp = widgets.Output()\n",
    "output_wb = widgets.Output()"
   ]
  },
  {
   "cell_type": "code",
   "execution_count": 76,
   "metadata": {},
   "outputs": [],
   "source": [
    "#create structure for output of fsp data and download and output worldbank data if available on button click\n",
    "def on_button_dataprofile_clicked(df_fsp):\n",
    "    output_title.clear_output()\n",
    "    output_fsp.clear_output()\n",
    "    output_wb.clear_output()\n",
    "    with output_title:\n",
    "        title = widgets.HTML(value=\"<h3>Datensatz: \"+ds_title.value+\"</h3>\")\n",
    "        display(title)\n",
    "    with output_fsp:\n",
    "        print(\"Ursprung: Food Security Portal\")\n",
    "        print_ds_output(profiling_data['dataframe_fsp'],profiling_data['metadata_fsp'])\n",
    "    with output_wb:\n",
    "        if (ds_title.value in indicator_match_fsp_wb.keys()):\n",
    "            print(\"Vergleichsquelle wird geladen (Ursprung: World Bank)\")\n",
    "            profiling_data['dataframe_wb'] = import_data.get_dataset_wb(indicator_match_fsp_wb[ds_title.value])\n",
    "            profiling_data['metadata_wb'] = import_data.get_metadata_attributes_wb(indicator_match_fsp_wb[ds_title.value])\n",
    "            print_ds_output(profiling_data['dataframe_wb'], profiling_data['metadata_wb'])\n",
    "        else:\n",
    "            print(\"Keine Vergleichsquelle vorhanden\")\n",
    "        df_fsp.value = profiling_data['dataframe_fsp'].columns\n",
    "                         "
   ]
  },
  {
   "cell_type": "code",
   "execution_count": 77,
   "metadata": {},
   "outputs": [],
   "source": [
    "#bind button to click method\n",
    "button_dataprofile.on_click(on_button_dataprofile_clicked)"
   ]
  },
  {
   "cell_type": "code",
   "execution_count": 78,
   "metadata": {},
   "outputs": [],
   "source": [
    "#create column selection that gets value from chosen dataset (after button click)\n",
    "column = widgets.Select(\n",
    "    options= \"\",\n",
    "    rows=10,\n",
    "    description='Spalten:',\n",
    "    disabled=False,\n",
    "    layout=widgets.Layout(width='33%')\n",
    ")"
   ]
  },
  {
   "cell_type": "code",
   "execution_count": 79,
   "metadata": {},
   "outputs": [],
   "source": [
    "def set_column_options(_):\n",
    "    column.options = button_dataprofile.value"
   ]
  },
  {
   "cell_type": "code",
   "execution_count": 80,
   "metadata": {},
   "outputs": [],
   "source": [
    "button_dataprofile.observe(set_column_options)"
   ]
  },
  {
   "cell_type": "code",
   "execution_count": 81,
   "metadata": {},
   "outputs": [],
   "source": [
    "#create column buttons and output structure\n",
    "button_columnprofile = ValueButton(description=\"Spaltenprofil\", layout=widgets.Layout(width='33%'))\n",
    "output_columnprofile_fsp = widgets.Output()\n",
    "output_columnprofile_wb = widgets.Output()"
   ]
  },
  {
   "cell_type": "code",
   "execution_count": 82,
   "metadata": {},
   "outputs": [],
   "source": [
    "def print_columnprofile_output(source='fsp'):\n",
    "    print(\"Spalte: \",column.value)\n",
    "    print(\"\\nSpaltenprofil zu Datensatz:\")\n",
    "    if source=='wb':\n",
    "        display(column_profile.describe_dc_as_dataframe(profiling_data['dataframe_wb'][column.value], profiling_data['metadata_wb']))\n",
    "    else:\n",
    "        display(column_profile.describe_dc_as_dataframe(profiling_data['dataframe_fsp'][column.value], profiling_data['metadata_fsp']))"
   ]
  },
  {
   "cell_type": "code",
   "execution_count": 83,
   "metadata": {},
   "outputs": [],
   "source": [
    "#define output of column profile on button click\n",
    "def on_button_columnprofile_clicked(_):\n",
    "    output_columnprofile_fsp.clear_output()\n",
    "    output_columnprofile_wb.clear_output()\n",
    "    with output_columnprofile_fsp:\n",
    "        print_columnprofile_output()\n",
    "    with output_columnprofile_wb:\n",
    "        if (ds_title.value in indicator_match_fsp_wb.keys()):\n",
    "            if(column.value in profiling_data['dataframe_wb'].keys()):\n",
    "                print_columnprofile_output('wb')\n",
    "            else:\n",
    "                print(\"Spalte nicht vorhanden\")\n",
    "        else:\n",
    "            print(\"Keine Vergleichsquelle vorhanden\")"
   ]
  },
  {
   "cell_type": "code",
   "execution_count": 84,
   "metadata": {},
   "outputs": [],
   "source": [
    "#bind column button on click method\n",
    "button_columnprofile.on_click(on_button_columnprofile_clicked)"
   ]
  },
  {
   "cell_type": "code",
   "execution_count": 85,
   "metadata": {},
   "outputs": [],
   "source": [
    "#Quelldatei herunterladen\n",
    "button_open_file = widgets.Button(description = \"Quelldatei herunterladen (foodsecurityportal.org)\", layout=widgets.Layout(width='33%'))\n",
    "\n",
    "def on_button_open_file_clicked(_):\n",
    "    # generate an URL\n",
    "    url = dataset_links[ds_title.value]\n",
    "    webbrowser.open_new_tab(url)\n",
    "\n",
    "button_open_file.on_click(on_button_open_file_clicked)"
   ]
  },
  {
   "cell_type": "code",
   "execution_count": 86,
   "metadata": {
    "scrolled": false
   },
   "outputs": [
    {
     "data": {
      "application/vnd.jupyter.widget-view+json": {
       "model_id": "138ab9fb067a430e873868c3dc819adb",
       "version_major": 2,
       "version_minor": 0
      },
      "text/plain": [
       "HBox(children=(Dropdown(description='Datensätze:', layout=Layout(width='33%'), options=('Rice Prices', 'GDP (c…"
      ]
     },
     "metadata": {},
     "output_type": "display_data"
    },
    {
     "data": {
      "application/vnd.jupyter.widget-view+json": {
       "model_id": "a17700f99e624f09880efe588afd340e",
       "version_major": 2,
       "version_minor": 0
      },
      "text/plain": [
       "HBox(children=(Output(),))"
      ]
     },
     "metadata": {},
     "output_type": "display_data"
    },
    {
     "data": {
      "application/vnd.jupyter.widget-view+json": {
       "model_id": "9db95ac10dc04cf8961d662de0088ac8",
       "version_major": 2,
       "version_minor": 0
      },
      "text/plain": [
       "HBox(children=(VBox(children=(Output(),), layout=Layout(width='50%')), VBox(children=(Output(),), layout=Layou…"
      ]
     },
     "metadata": {},
     "output_type": "display_data"
    }
   ],
   "source": [
    "# create display\n",
    "display(widgets.HBox([ds_title, button_dataprofile, button_open_file]))\n",
    "display(widgets.HBox([output_title]))\n",
    "display(widgets.HBox([widgets.VBox([output_fsp], layout=widgets.Layout(width='50%')), widgets.VBox([output_wb], layout=widgets.Layout(width='50%'))]))"
   ]
  },
  {
   "cell_type": "code",
   "execution_count": 87,
   "metadata": {},
   "outputs": [
    {
     "data": {
      "application/vnd.jupyter.widget-view+json": {
       "model_id": "d405d2d166294421808a4919e8ac0025",
       "version_major": 2,
       "version_minor": 0
      },
      "text/plain": [
       "HBox(children=(Select(description='Spalten:', layout=Layout(width='33%'), options=(), rows=10, value=None), Va…"
      ]
     },
     "metadata": {},
     "output_type": "display_data"
    },
    {
     "data": {
      "application/vnd.jupyter.widget-view+json": {
       "model_id": "95ac89034c994e16837a2554fbf50c33",
       "version_major": 2,
       "version_minor": 0
      },
      "text/plain": [
       "HBox(children=(VBox(children=(Output(),), layout=Layout(width='50%')), VBox(children=(Output(),), layout=Layou…"
      ]
     },
     "metadata": {},
     "output_type": "display_data"
    }
   ],
   "source": [
    "display(widgets.HBox([column, button_columnprofile]))\n",
    "display(widgets.HBox([widgets.VBox([output_columnprofile_fsp], layout=widgets.Layout(width='50%')), widgets.VBox([output_columnprofile_wb], layout=widgets.Layout(width='50%'))]))"
   ]
  },
  {
   "cell_type": "markdown",
   "metadata": {},
   "source": [
    "### Datensatzprofil: verfügbare Attribute\n",
    "\n",
    " * **Domain**: als Domain angegebene Kategorisierung der enthaltenen Spalten\n",
    " * **geographischer Geltungsbereich**: geographischer Geltungsbereich des Datensatzes. Ausgegeben werden entweder Kontinente oder \"Welt\", wenn alle Kontinente enthalten sind.\n",
    " * **Datengröße in KB**: gibt die Größe der intern verarbeiteten Datei an als Richtwert für den Dateidownload; Downloadgröße kann geringer sein\n",
    " * **Zeitraum**: der verfügbare Zeitrahmen mit min. einem Datenpunkt im Datensatz\n",
    " * **Zeitliche Granularität**: Überprüfung des tatsächlich verfügbaren Intervalls der enthaltenen Datenpunkte (z.B. täglich, wöchentlich, ...)\n",
    " * **Anzahl der Zeilen**: Anzahl der Zeilen im Datensatz (meist Zeitreihen: Anzahl an Zeitpunkten)\n",
    " * **Anzahl der Spalten**: Anzahl der Spalten im Datensatz (meist Länder: Anzahl an Ländern)\n",
    " * **Distinkte Werte (Prozent)**: Prozentanteil an Werten, die einzigartig im gesamten Datensatz sind\n",
    " * **Fehlende Werte (Prozent)**: Prozentanteil an fehlenden Werten im gesamten Datensatz\n",
    " * **Spalten ohne Werte (n)**: Anzahl an Spalten, die gar keine Werte enthalten\n",
    " * **Datentypen**: Überprüfung und Kategorisierung der enthaltenen Datentypen in numerisch (NUM), textuell (STRING) oder konstant (CONST)\n",
    " * **Open Data Schema**:  Kategorisierung der Datenquelle in Stufe 1-5 nach dem 5 Star Open Data Schema (https://5stardata.info/de/)\n",
    " * **Spalten mit exakt selben Werten**: Überprüfung, ob duplizierte Spalten existieren und Ausgabe der Spalten mit exakt selben Werten\n",
    " * **Aggregations-Check**: Unter der Annahme, dass die \"Welt\"-Spalte, wenn vorhanden, eine Aggregationsspalte darstellt, wird überprüft, ob die Aggregation mit dem Durchschnitt oder der Summe der restlichen Spalten übereinstimmt; Ausgabe der nicht übereinstimmenden Indizes, Ausgabe \"alle Zeilen\", wenn in keiner Zeile eine Übereinstimmung existiert\n",
    " * **Überprüfung des Wertebereichs**: Überprüfung, ob alle Werte dem vorgegebenen Wertebereich der angegebenen Einheit entsprechen; Ausgabe der Spalten, in denen mindestens ein Wert den Wertebereich verletzt\n",
    " * **Herausgeber-Kategorie\"**: Kategorisierung des Herausgebers der Quelle in Oberkategorie (z.B. FAO -> Zwischenstaatliche Organisation)\n",
    " * **Domain-Check**: Überprüfung, ob alle Spalten der angegebenen Domain ensprechen, wenn diese \"Country\" ist und Ausgabe der Länder, die nicht als Land erkannt wurden (mit ihrer eigentlichen Domain, wenn möglich)\n",
    " * **Verzögerung Veröffentlichung in Monaten**: Unterschied zwischen angegebenem Veröffentlichungsdatum (Erstellungdatum in den Metadaten) und dem letzten Zeitpunkt in den Daten in Monaten "
   ]
  },
  {
   "cell_type": "markdown",
   "metadata": {},
   "source": [
    "### Spaltenprofil: verfügbare Attribute\n",
    "* **Metadaten spezifisch für Spalte** : prototypische Extraktion der Metadaten assoziert zum Spaltentitel, wenn möglich und vorhanden\n",
    "* **Anzahl an Zeilen** : Anzahl der Zeilen mit Werten\n",
    "* **Anzahl an fehlenden Werten** : Anzahl der Zeilen ohne Werte\n",
    "* **Fehlende Werte (Prozent)** : Prozentanteil der Zeilen in der Spalte, die keine Werte darstellen\n",
    "* **Distinkte Werte (Prozent)** : Prozentanteil der Werte in der Spalte, die nur einmal vorkommen\n",
    "* **Konstanz (Prozent)** : Konstanz definiert als Anzahl des häufigsten Wertes dividiert durch die Anzahl der Werte in der Spalte\n",
    "* **Datenpunkte vorhanden für** : konsekutive Zeiträume im Datensatz, in denen mindestens ein Wert vorhanden ist"
   ]
  }
 ],
 "metadata": {
  "kernelspec": {
   "display_name": "Python 3",
   "language": "python",
   "name": "python3"
  },
  "language_info": {
   "codemirror_mode": {
    "name": "ipython",
    "version": 3
   },
   "file_extension": ".py",
   "mimetype": "text/x-python",
   "name": "python",
   "nbconvert_exporter": "python",
   "pygments_lexer": "ipython3",
   "version": "3.7.4"
  }
 },
 "nbformat": 4,
 "nbformat_minor": 2
}
